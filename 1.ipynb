{
 "cells": [
  {
   "metadata": {
    "ExecuteTime": {
     "end_time": "2024-04-27T17:44:38.688251Z",
     "start_time": "2024-04-27T17:44:38.648338Z"
    }
   },
   "cell_type": "code",
   "source": [
    "# библиотеки\n",
    "import numpy as np\n",
    "import pandas as pd\n",
    "import matplotlib.pyplot as plt\n",
    "from sklearn.model_selection import train_test_split\n",
    "from sklearn.tree import DecisionTreeClassifier\n",
    "\n"
   ],
   "id": "a5637bc0cbf6e10a",
   "outputs": [],
   "execution_count": 57
  },
  {
   "metadata": {
    "ExecuteTime": {
     "end_time": "2024-04-27T17:45:46.929666Z",
     "start_time": "2024-04-27T17:45:13.998500Z"
    }
   },
   "cell_type": "code",
   "source": [
    "# считываем файлы\n",
    "\n",
    "songs = pd.read_csv('songs.csv')\n",
    "member = pd.read_csv('members.csv', parse_dates=[\n",
    "                     'registration_init_time', 'expiration_date'])\n",
    "test = pd.read_csv('test.csv')\n",
    "train = pd.read_csv('train.csv')\n",
    "extra_song = pd.read_csv('song_extra_info.csv')\n"
   ],
   "id": "f24a1abc7bbf5626",
   "outputs": [],
   "execution_count": 58
  },
  {
   "metadata": {
    "ExecuteTime": {
     "end_time": "2024-04-27T17:46:52.282435Z",
     "start_time": "2024-04-27T17:46:52.266142Z"
    }
   },
   "cell_type": "code",
   "source": [
    "# конвертируем всё в категории\n",
    "def convert_obj_cat(df):\n",
    "    obj_cols = df.select_dtypes(include='object').columns\n",
    "    for col in obj_cols:\n",
    "        df[col] = df[col].astype('category')"
   ],
   "id": "ac06d87c6090fe44",
   "outputs": [],
   "execution_count": 59
  },
  {
   "metadata": {
    "ExecuteTime": {
     "end_time": "2024-04-27T17:47:46.880911Z",
     "start_time": "2024-04-27T17:47:04.146677Z"
    }
   },
   "cell_type": "code",
   "source": [
    "convert_obj_cat(train)\n",
    "convert_obj_cat(test)\n",
    "convert_obj_cat(songs)\n",
    "convert_obj_cat(member)\n",
    "convert_obj_cat(extra_song)"
   ],
   "id": "cb94630682ac48e4",
   "outputs": [],
   "execution_count": 60
  },
  {
   "metadata": {
    "ExecuteTime": {
     "end_time": "2024-04-27T17:48:42.887889Z",
     "start_time": "2024-04-27T17:48:19.129920Z"
    }
   },
   "cell_type": "code",
   "source": [
    "# соединяем все файлы в один\n",
    "train = train.merge(songs, how='left', on='song_id')\n",
    "test = test.merge(songs, how='left', on='song_id')\n",
    "train = train.merge(member, how='left', on='msno')\n",
    "test = test.merge(member, how='left', on='msno')\n",
    "train = train.merge(extra_song, how='left', on='song_id')\n",
    "test = test.merge(extra_song, how='left',on='song_id')"
   ],
   "id": "45e300910aec09fd",
   "outputs": [],
   "execution_count": 61
  },
  {
   "metadata": {
    "ExecuteTime": {
     "end_time": "2024-04-27T17:50:51.870558Z",
     "start_time": "2024-04-27T17:50:49.253747Z"
    }
   },
   "cell_type": "code",
   "source": [
    "# Feature extractions\n",
    "train['days_left'] = (train.expiration_date -\n",
    "                      train.registration_init_time).dt.days.astype('int')\n",
    "train['reg_year'] = train['registration_init_time'].dt.year\n",
    "train['reg_month'] = train['registration_init_time'].dt.month\n",
    "train['reg_date'] = train['registration_init_time'].dt.day\n",
    "\n",
    "train['exp_year'] = train['expiration_date'].dt.year\n",
    "train['exp_month'] = train['expiration_date'].dt.month\n",
    "train['exp_date'] = train['expiration_date'].dt.day"
   ],
   "id": "80447ad204fad7b6",
   "outputs": [],
   "execution_count": 62
  },
  {
   "metadata": {
    "ExecuteTime": {
     "end_time": "2024-04-27T17:51:36.324377Z",
     "start_time": "2024-04-27T17:51:32.353239Z"
    }
   },
   "cell_type": "code",
   "source": [
    "# выкидываем колонки которые только что преобразовали удобнее\n",
    "train.drop(columns=['registration_init_time',\n",
    "                    'expiration_date'], index=1, inplace=True)"
   ],
   "id": "28704680d9753c26",
   "outputs": [],
   "execution_count": 63
  },
  {
   "metadata": {
    "ExecuteTime": {
     "end_time": "2024-04-27T17:52:25.144925Z",
     "start_time": "2024-04-27T17:52:18.308681Z"
    }
   },
   "cell_type": "code",
   "source": [
    "# получить год\n",
    "def isrc_to_year(isrc):\n",
    "    if type(isrc) == str:\n",
    "        if int(isrc[5:7]) > 17:\n",
    "            return 1900 + int(isrc[5:7])\n",
    "        else:\n",
    "            return 2000 + int(isrc[5:7])\n",
    "    else:\n",
    "        return np.nan\n",
    "\n",
    "\n",
    "train['song_year'] = train['isrc'].apply(isrc_to_year)\n",
    "\n",
    "\n",
    "train.drop(['isrc', 'name'], axis=1, inplace=True)"
   ],
   "id": "80fadbe7a62ce7a6",
   "outputs": [
    {
     "ename": "KeyError",
     "evalue": "'isrc'",
     "output_type": "error",
     "traceback": [
      "\u001B[0;31m---------------------------------------------------------------------------\u001B[0m",
      "\u001B[0;31mKeyError\u001B[0m                                  Traceback (most recent call last)",
      "File \u001B[0;32m~/anaconda3/lib/python3.10/site-packages/pandas/core/indexes/base.py:3790\u001B[0m, in \u001B[0;36mIndex.get_loc\u001B[0;34m(self, key)\u001B[0m\n\u001B[1;32m   3789\u001B[0m \u001B[38;5;28;01mtry\u001B[39;00m:\n\u001B[0;32m-> 3790\u001B[0m     \u001B[38;5;28;01mreturn\u001B[39;00m \u001B[38;5;28;43mself\u001B[39;49m\u001B[38;5;241;43m.\u001B[39;49m\u001B[43m_engine\u001B[49m\u001B[38;5;241;43m.\u001B[39;49m\u001B[43mget_loc\u001B[49m\u001B[43m(\u001B[49m\u001B[43mcasted_key\u001B[49m\u001B[43m)\u001B[49m\n\u001B[1;32m   3791\u001B[0m \u001B[38;5;28;01mexcept\u001B[39;00m \u001B[38;5;167;01mKeyError\u001B[39;00m \u001B[38;5;28;01mas\u001B[39;00m err:\n",
      "File \u001B[0;32mindex.pyx:152\u001B[0m, in \u001B[0;36mpandas._libs.index.IndexEngine.get_loc\u001B[0;34m()\u001B[0m\n",
      "File \u001B[0;32mindex.pyx:181\u001B[0m, in \u001B[0;36mpandas._libs.index.IndexEngine.get_loc\u001B[0;34m()\u001B[0m\n",
      "File \u001B[0;32mpandas/_libs/hashtable_class_helper.pxi:7080\u001B[0m, in \u001B[0;36mpandas._libs.hashtable.PyObjectHashTable.get_item\u001B[0;34m()\u001B[0m\n",
      "File \u001B[0;32mpandas/_libs/hashtable_class_helper.pxi:7088\u001B[0m, in \u001B[0;36mpandas._libs.hashtable.PyObjectHashTable.get_item\u001B[0;34m()\u001B[0m\n",
      "\u001B[0;31mKeyError\u001B[0m: 'isrc'",
      "\nThe above exception was the direct cause of the following exception:\n",
      "\u001B[0;31mKeyError\u001B[0m                                  Traceback (most recent call last)",
      "Cell \u001B[0;32mIn[65], line 12\u001B[0m\n\u001B[1;32m      8\u001B[0m     \u001B[38;5;28;01melse\u001B[39;00m:\n\u001B[1;32m      9\u001B[0m         \u001B[38;5;28;01mreturn\u001B[39;00m np\u001B[38;5;241m.\u001B[39mnan\n\u001B[0;32m---> 12\u001B[0m train[\u001B[38;5;124m'\u001B[39m\u001B[38;5;124msong_year\u001B[39m\u001B[38;5;124m'\u001B[39m] \u001B[38;5;241m=\u001B[39m \u001B[43mtrain\u001B[49m\u001B[43m[\u001B[49m\u001B[38;5;124;43m'\u001B[39;49m\u001B[38;5;124;43misrc\u001B[39;49m\u001B[38;5;124;43m'\u001B[39;49m\u001B[43m]\u001B[49m\u001B[38;5;241m.\u001B[39mapply(isrc_to_year)\n\u001B[1;32m     15\u001B[0m train\u001B[38;5;241m.\u001B[39mdrop([\u001B[38;5;124m'\u001B[39m\u001B[38;5;124misrc\u001B[39m\u001B[38;5;124m'\u001B[39m, \u001B[38;5;124m'\u001B[39m\u001B[38;5;124mname\u001B[39m\u001B[38;5;124m'\u001B[39m], axis\u001B[38;5;241m=\u001B[39m\u001B[38;5;241m1\u001B[39m, inplace\u001B[38;5;241m=\u001B[39m\u001B[38;5;28;01mTrue\u001B[39;00m)\n",
      "File \u001B[0;32m~/anaconda3/lib/python3.10/site-packages/pandas/core/frame.py:3896\u001B[0m, in \u001B[0;36mDataFrame.__getitem__\u001B[0;34m(self, key)\u001B[0m\n\u001B[1;32m   3894\u001B[0m \u001B[38;5;28;01mif\u001B[39;00m \u001B[38;5;28mself\u001B[39m\u001B[38;5;241m.\u001B[39mcolumns\u001B[38;5;241m.\u001B[39mnlevels \u001B[38;5;241m>\u001B[39m \u001B[38;5;241m1\u001B[39m:\n\u001B[1;32m   3895\u001B[0m     \u001B[38;5;28;01mreturn\u001B[39;00m \u001B[38;5;28mself\u001B[39m\u001B[38;5;241m.\u001B[39m_getitem_multilevel(key)\n\u001B[0;32m-> 3896\u001B[0m indexer \u001B[38;5;241m=\u001B[39m \u001B[38;5;28;43mself\u001B[39;49m\u001B[38;5;241;43m.\u001B[39;49m\u001B[43mcolumns\u001B[49m\u001B[38;5;241;43m.\u001B[39;49m\u001B[43mget_loc\u001B[49m\u001B[43m(\u001B[49m\u001B[43mkey\u001B[49m\u001B[43m)\u001B[49m\n\u001B[1;32m   3897\u001B[0m \u001B[38;5;28;01mif\u001B[39;00m is_integer(indexer):\n\u001B[1;32m   3898\u001B[0m     indexer \u001B[38;5;241m=\u001B[39m [indexer]\n",
      "File \u001B[0;32m~/anaconda3/lib/python3.10/site-packages/pandas/core/indexes/base.py:3797\u001B[0m, in \u001B[0;36mIndex.get_loc\u001B[0;34m(self, key)\u001B[0m\n\u001B[1;32m   3792\u001B[0m     \u001B[38;5;28;01mif\u001B[39;00m \u001B[38;5;28misinstance\u001B[39m(casted_key, \u001B[38;5;28mslice\u001B[39m) \u001B[38;5;129;01mor\u001B[39;00m (\n\u001B[1;32m   3793\u001B[0m         \u001B[38;5;28misinstance\u001B[39m(casted_key, abc\u001B[38;5;241m.\u001B[39mIterable)\n\u001B[1;32m   3794\u001B[0m         \u001B[38;5;129;01mand\u001B[39;00m \u001B[38;5;28many\u001B[39m(\u001B[38;5;28misinstance\u001B[39m(x, \u001B[38;5;28mslice\u001B[39m) \u001B[38;5;28;01mfor\u001B[39;00m x \u001B[38;5;129;01min\u001B[39;00m casted_key)\n\u001B[1;32m   3795\u001B[0m     ):\n\u001B[1;32m   3796\u001B[0m         \u001B[38;5;28;01mraise\u001B[39;00m InvalidIndexError(key)\n\u001B[0;32m-> 3797\u001B[0m     \u001B[38;5;28;01mraise\u001B[39;00m \u001B[38;5;167;01mKeyError\u001B[39;00m(key) \u001B[38;5;28;01mfrom\u001B[39;00m \u001B[38;5;21;01merr\u001B[39;00m\n\u001B[1;32m   3798\u001B[0m \u001B[38;5;28;01mexcept\u001B[39;00m \u001B[38;5;167;01mTypeError\u001B[39;00m:\n\u001B[1;32m   3799\u001B[0m     \u001B[38;5;66;03m# If we have a listlike key, _check_indexing_error will raise\u001B[39;00m\n\u001B[1;32m   3800\u001B[0m     \u001B[38;5;66;03m#  InvalidIndexError. Otherwise we fall through and re-raise\u001B[39;00m\n\u001B[1;32m   3801\u001B[0m     \u001B[38;5;66;03m#  the TypeError.\u001B[39;00m\n\u001B[1;32m   3802\u001B[0m     \u001B[38;5;28mself\u001B[39m\u001B[38;5;241m.\u001B[39m_check_indexing_error(key)\n",
      "\u001B[0;31mKeyError\u001B[0m: 'isrc'"
     ]
    }
   ],
   "execution_count": 65
  },
  {
   "metadata": {
    "ExecuteTime": {
     "end_time": "2024-04-27T17:52:25.147755Z",
     "start_time": "2024-04-27T17:52:25.147575Z"
    }
   },
   "cell_type": "code",
   "source": [
    "# посчитать фичи\n",
    "def gener_id_count(x):\n",
    "    if pd.isnull(x):\n",
    "        return x\n",
    "    else:\n",
    "        return x.count('|')+1\n",
    "\n",
    "\n",
    "def lyricist_count(x):\n",
    "    if pd.isnull(x):\n",
    "        return x\n",
    "    else:\n",
    "        return sum(map(x.count, ['|', '/', '\\\\', ';'])) + 1\n",
    "\n",
    "\n",
    "def composer_count(x):\n",
    "    if pd.isnull(x):\n",
    "        return x\n",
    "    else:\n",
    "        return sum(map(x.count, ['|', '/', '\\\\', ';'])) + 1\n",
    "\n",
    "\n",
    "def artist_count(x):\n",
    "    if pd.isnull(x):\n",
    "        return x\n",
    "    else:\n",
    "        return sum(map(x.count, ['|', '/', '\\\\', ';'])) + 1\n",
    "\n",
    "\n",
    "def is_featured(x):\n",
    "    if 'feat' in str(x):\n",
    "        return 1\n",
    "    return 0"
   ],
   "id": "4fd7617b812fe14b",
   "outputs": [],
   "execution_count": null
  },
  {
   "metadata": {
    "ExecuteTime": {
     "end_time": "2024-04-27T17:52:48.355363Z",
     "start_time": "2024-04-27T17:52:45.227130Z"
    }
   },
   "cell_type": "code",
   "source": [
    "train['gener_count'] = train['genre_ids'].apply(gener_id_count)\n",
    "train['lyricist_count'] = train['lyricist'].apply(\n",
    "    lyricist_count)\n",
    "train['composer_count'] = train['composer'].apply(\n",
    "    composer_count)\n",
    "train['artist_count'] = train['artist_name'].apply(\n",
    "    artist_count)\n",
    "train['features'] = train['artist_name'].apply(is_featured)"
   ],
   "id": "d2f3d4e651c64657",
   "outputs": [],
   "execution_count": 66
  },
  {
   "metadata": {
    "ExecuteTime": {
     "end_time": "2024-04-27T17:54:08.235604Z",
     "start_time": "2024-04-27T17:54:08.206798Z"
    }
   },
   "cell_type": "code",
   "source": "train['song_id']",
   "id": "df5cbcd9b0b73799",
   "outputs": [
    {
     "data": {
      "text/plain": [
       "0          BBzumQNXUHKdEBOB7mAJuzok+IJA1c2Ryg/yzTF6tik=\n",
       "2          JNWfrrC7zNN7BdMpsISKa4Mw+xVJYNnxXh3/Epw7QgY=\n",
       "3          2A87tzfnJTSWqD7gIZHisolhe4DMdzkbd6LzO1KHjNs=\n",
       "4          3qm6XTZ6MOCU11x8FIVbAGH5l5uMkT3/ZalWG1oo2Gc=\n",
       "5          3Hg5kugV1S0wzEVLAEfqjIV5UHzb7bCrdBRQlGygLvU=\n",
       "                               ...                     \n",
       "7377413    VJTxizih/o28kXCbtPbIyWXScoXGvxyYtl6R+0YB5JM=\n",
       "7377414    z1mqaU9YOX7T/PFDvUoWozdFq7rC3KwaQP7nFVprjMI=\n",
       "7377415    750RprmFfLV0bymtDH88g24pLZGVi5VpBAI300P6UOA=\n",
       "7377416    G8wgqObgeAMER/rVCIlgcNeQ8mm0CzF/GsxiMK8TTnA=\n",
       "7377417    Ju0VGkjWeBUZCd7r5Az2hUImhMoWxWLUicOedsmvG0g=\n",
       "Name: song_id, Length: 7377417, dtype: object"
      ]
     },
     "execution_count": 67,
     "metadata": {},
     "output_type": "execute_result"
    }
   ],
   "execution_count": 67
  },
  {
   "metadata": {
    "ExecuteTime": {
     "end_time": "2024-04-27T17:54:37.229707Z",
     "start_time": "2024-04-27T17:54:31.160946Z"
    }
   },
   "cell_type": "code",
   "source": [
    "\n",
    "y_train = train['target']\n",
    "x_train = train.drop(['target'], axis=1)\n",
    "convert_obj_cat(x_train)"
   ],
   "id": "64115746753b00a6",
   "outputs": [],
   "execution_count": 68
  },
  {
   "metadata": {
    "ExecuteTime": {
     "end_time": "2024-04-27T17:56:40.914108Z",
     "start_time": "2024-04-27T17:55:01.505888Z"
    }
   },
   "cell_type": "code",
   "source": [
    "# преобразовываем в строки\n",
    "from sklearn import preprocessing\n",
    "le = preprocessing.LabelEncoder()\n",
    "for column_name in x_train.columns:\n",
    "    if x_train[column_name].dtype.name == 'category':\n",
    "        x_train[column_name] = le.fit_transform(\n",
    "            x_train[column_name].astype(str))\n",
    "    else:\n",
    "        pass"
   ],
   "id": "668da4d68dd594d1",
   "outputs": [],
   "execution_count": 69
  },
  {
   "metadata": {
    "ExecuteTime": {
     "end_time": "2024-04-27T13:58:31.782529Z",
     "start_time": "2024-04-27T13:58:28.432156Z"
    }
   },
   "cell_type": "code",
   "source": "x_train = x_train.fillna(-1)",
   "id": "3b371339f4684f88",
   "outputs": [],
   "execution_count": 47
  },
  {
   "metadata": {
    "ExecuteTime": {
     "end_time": "2024-04-27T13:58:31.811600Z",
     "start_time": "2024-04-27T13:58:31.786276Z"
    }
   },
   "cell_type": "code",
   "source": "x_train.shape",
   "id": "3da90373ca185408",
   "outputs": [
    {
     "data": {
      "text/plain": [
       "(7377417, 28)"
      ]
     },
     "execution_count": 48,
     "metadata": {},
     "output_type": "execute_result"
    }
   ],
   "execution_count": 48
  },
  {
   "metadata": {
    "ExecuteTime": {
     "end_time": "2024-04-27T13:58:37.665246Z",
     "start_time": "2024-04-27T13:58:31.814066Z"
    }
   },
   "cell_type": "code",
   "source": [
    "X_train, X_test, Y_train, Y_test = train_test_split(\n",
    "    x_train, y_train, test_size=0.95)"
   ],
   "id": "7f5994f73d06febf",
   "outputs": [],
   "execution_count": 49
  },
  {
   "metadata": {
    "ExecuteTime": {
     "end_time": "2024-04-27T13:59:05.959119Z",
     "start_time": "2024-04-27T13:58:37.667691Z"
    }
   },
   "cell_type": "code",
   "source": [
    "from sklearn.ensemble import RandomForestClassifier\n",
    "rf = RandomForestClassifier(\n",
    "    n_estimators=100, oob_score=False, n_jobs=-1)\n",
    "rf.fit(X_train, Y_train)"
   ],
   "id": "e7d63b69ef5a239c",
   "outputs": [
    {
     "data": {
      "text/plain": [
       "RandomForestClassifier(n_jobs=-1)"
      ]
     },
     "execution_count": 50,
     "metadata": {},
     "output_type": "execute_result"
    }
   ],
   "execution_count": 50
  },
  {
   "metadata": {
    "ExecuteTime": {
     "end_time": "2024-04-27T14:01:13.400379Z",
     "start_time": "2024-04-27T13:59:30.784175Z"
    }
   },
   "cell_type": "code",
   "source": [
    "from sklearn.metrics import accuracy_score\n",
    "predicted = rf.predict(X_test)\n",
    "accuracy = accuracy_score(Y_test, predicted)\n",
    "print(f'Mean accuracy score: {accuracy:.3}')"
   ],
   "id": "1081da9787cefa1a",
   "outputs": [
    {
     "name": "stdout",
     "output_type": "stream",
     "text": [
      "Mean accuracy score: 0.663\n"
     ]
    }
   ],
   "execution_count": 51
  },
  {
   "metadata": {
    "ExecuteTime": {
     "end_time": "2024-04-27T14:01:36.038852Z",
     "start_time": "2024-04-27T14:01:34.962402Z"
    }
   },
   "cell_type": "code",
   "source": [
    "from sklearn.metrics import precision_recall_fscore_support as score\n",
    "\n",
    "precision, recall, fscore, support = score(Y_test, predicted)\n",
    "\n",
    "print('precision: {}'.format(precision))\n",
    "print('recall: {}'.format(recall))\n",
    "print('fscore: {}'.format(fscore))\n",
    "print('support: {}'.format(support))"
   ],
   "id": "58a720cef2afc0db",
   "outputs": [
    {
     "name": "stdout",
     "output_type": "stream",
     "text": [
      "precision: [0.66475769 0.66114193]\n",
      "recall: [0.6477749 0.6778008]\n",
      "fscore: [0.65615643 0.66936773]\n",
      "support: [3480087 3528460]\n"
     ]
    }
   ],
   "execution_count": 52
  },
  {
   "metadata": {
    "ExecuteTime": {
     "end_time": "2024-04-27T14:02:04.466193Z",
     "start_time": "2024-04-27T14:02:02.781267Z"
    }
   },
   "cell_type": "code",
   "source": [
    "import itertools\n",
    "from sklearn.metrics import confusion_matrix\n",
    "\n",
    "class_names = ['0', '1']\n",
    "\n",
    "\n",
    "def plot_confusion_matrix(cm, classes,\n",
    "                          normalize=False,\n",
    "                          title='Confusion matrix',\n",
    "                          cmap=plt.cm.Blues):\n",
    "    \"\"\"\n",
    "    This function prints and plots the confusion matrix.\n",
    "    Normalization can be applied by setting `normalize=True`.\n",
    "    \"\"\"\n",
    "    if normalize:\n",
    "        cm = cm.astype('float') / cm.sum(axis=1)[:, np.newaxis]\n",
    "        print(\"Normalized confusion matrix\")\n",
    "    else:\n",
    "        print('Confusion matrix, without normalization')\n",
    "\n",
    "    print(cm)\n",
    "\n",
    "    plt.imshow(cm, interpolation='nearest', cmap=cmap)\n",
    "    plt.title(title)\n",
    "    plt.colorbar()\n",
    "    tick_marks = np.arange(2)\n",
    "    plt.xticks(tick_marks, classes, rotation=45)\n",
    "    plt.yticks(tick_marks, classes)\n",
    "\n",
    "    fmt = '.2f' if normalize else 'd'\n",
    "    thresh = cm.max() / 2.\n",
    "    for i, j in itertools.product(range(cm.shape[0]), range(cm.shape[1])):\n",
    "        plt.text(j, i, format(cm[i, j], fmt),\n",
    "                 horizontalalignment=\"center\",\n",
    "                 color=\"white\" if cm[i, j] > thresh else \"black\")\n",
    "\n",
    "    plt.ylabel('True label')\n",
    "    plt.xlabel('Predicted label')\n",
    "    plt.tight_layout()\n",
    "\n",
    "\n",
    "# Compute confusion matrix\n",
    "cnf_matrix = confusion_matrix(Y_test, predicted)\n",
    "np.set_printoptions(precision=2)\n",
    "\n",
    "# Plot non-normalized confusion matrix\n",
    "plt.figure()\n",
    "plot_confusion_matrix(cnf_matrix, classes=class_names,\n",
    "                      title='Confusion matrix, without normalization')\n",
    "\n",
    "# Plot normalized confusion matrix\n",
    "plt.figure()\n",
    "plot_confusion_matrix(cnf_matrix, classes=class_names, normalize=True,\n",
    "                      title='Normalized confusion matrix')\n",
    "\n",
    "plt.show()"
   ],
   "id": "a5175a46c31e259b",
   "outputs": [
    {
     "name": "stdout",
     "output_type": "stream",
     "text": [
      "Confusion matrix, without normalization\n",
      "[[2254313 1225774]\n",
      " [1136867 2391593]]\n",
      "Normalized confusion matrix\n",
      "[[0.65 0.35]\n",
      " [0.32 0.68]]\n"
     ]
    },
    {
     "data": {
      "text/plain": [
       "<Figure size 432x288 with 2 Axes>"
      ],
      "image/png": "[encoded data removed]"
     },
     "metadata": {
      "needs_background": "light"
     },
     "output_type": "display_data"
    },
    {
     "data": {
      "text/plain": [
       "<Figure size 432x288 with 2 Axes>"
      ],
      "image/png": "[encoded data removed]"
     },
     "metadata": {
      "needs_background": "light"
     },
     "output_type": "display_data"
    }
   ],
   "execution_count": 53
  },
  {
   "metadata": {
    "ExecuteTime": {
     "end_time": "2024-04-27T15:39:25.137452Z",
     "start_time": "2024-04-27T15:39:23.208325Z"
    }
   },
   "cell_type": "code",
   "source": [
    "\n",
    "# Calculate ndcg score\n",
    "from sklearn.metrics import ndcg_score\n",
    "# This is where I get an error\n",
    "ndcg_score([Y_test], [predicted], k=20)"
   ],
   "id": "57ecf0a39cbb6819",
   "outputs": [
    {
     "data": {
      "text/plain": [
       "0.6611419300281115"
      ]
     },
     "execution_count": 55,
     "metadata": {},
     "output_type": "execute_result"
    }
   ],
   "execution_count": 55
  },
  {
   "metadata": {},
   "cell_type": "code",
   "outputs": [],
   "execution_count": null,
   "source": "",
   "id": "cc7af7323294a37c"
  }
 ],
 "metadata": {
  "kernelspec": {
   "display_name": "Python 3",
   "language": "python",
   "name": "python3"
  },
  "language_info": {
   "codemirror_mode": {
    "name": "ipython",
    "version": 2
   },
   "file_extension": ".py",
   "mimetype": "text/x-python",
   "name": "python",
   "nbconvert_exporter": "python",
   "pygments_lexer": "ipython2",
   "version": "2.7.6"
  }
 },
 "nbformat": 4,
 "nbformat_minor": 5
}
